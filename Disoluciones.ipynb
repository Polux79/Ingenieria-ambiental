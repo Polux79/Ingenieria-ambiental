{
  "nbformat": 4,
  "nbformat_minor": 0,
  "metadata": {
    "colab": {
      "provenance": [],
      "authorship_tag": "ABX9TyNGs0FHQ1EJ/mF8LSPUzGVa",
      "include_colab_link": true
    },
    "kernelspec": {
      "name": "python3",
      "display_name": "Python 3"
    },
    "language_info": {
      "name": "python"
    }
  },
  "cells": [
    {
      "cell_type": "markdown",
      "metadata": {
        "id": "view-in-github",
        "colab_type": "text"
      },
      "source": [
        "<a href=\"https://colab.research.google.com/github/Polux79/Ingenieria-ambiental/blob/main/Disoluciones.ipynb\" target=\"_parent\"><img src=\"https://colab.research.google.com/assets/colab-badge.svg\" alt=\"Open In Colab\"/></a>"
      ]
    },
    {
      "cell_type": "markdown",
      "source": [
        "\n",
        "\n",
        "1.  Calcule la masa de $KI$, en gramos, que se requiere para preparar $5,00 x 10^2$ $mL$ de una disolución $2,80M$."
      ],
      "metadata": {
        "id": "S61KJHsxiXwT"
      }
    },
    {
      "cell_type": "code",
      "execution_count": 4,
      "metadata": {
        "colab": {
          "base_uri": "https://localhost:8080/"
        },
        "id": "ugCjzMAsiMO3",
        "outputId": "4f29093b-1028-4cbe-97d2-493375d69430"
      },
      "outputs": [
        {
          "output_type": "stream",
          "name": "stdout",
          "text": [
            "232.40 gramos de KI\n"
          ]
        }
      ],
      "source": [
        "#Primera forma de solucionar, ingreso detallado de variables ---> Nivel principiante\n",
        "\n",
        "#Calculo del peso molecular del KI\n",
        "Peso_K = 39.0983      #De la tabla periódica, Peso atómico (P.A)\n",
        "Peso_I = 126.9045     #De la tabla periódica, P.A\n",
        "\n",
        "Peso_KI = Peso_K + Peso_I   # El peso molecular del KI, suma de P.A\n",
        "\n",
        "# print (Peso_KI) #si deseas visualizar el valor de peso molecular elimina el # del inicio de linea\n",
        "\n",
        "#Transformando el volumen a Litros\n",
        "V_sol = 5*10**2*(1/1000) #mL\n",
        "\n",
        "#Declaración de la molaridad\n",
        "M_sol = 2.8     #M\n",
        "\n",
        "#Calculo de la masa de KI\n",
        "m_KI = Peso_KI*V_sol*M_sol\n",
        "print(f\"{m_KI:.2f} gramos de KI\")"
      ]
    },
    {
      "cell_type": "code",
      "source": [
        "#Segunda forma de solucionar, uso de la función \"def\" ---> Nivel avanzado\n",
        "\n",
        "def masa_soluto(Molaridad, Peso_molecular, Volumen):\n",
        "\n",
        "    return Molaridad * Peso_molecular * Volumen\n",
        "\n",
        "resultado = masa_soluto(2.8, (39.0983+126.9045), (500/1000)) # Las variables se transforman al interior de los ()\n",
        "\n",
        "print(f\"{resultado:.2f} gramos de KI\")"
      ],
      "metadata": {
        "colab": {
          "base_uri": "https://localhost:8080/"
        },
        "id": "nnn2E2efsjT9",
        "outputId": "43a7b118-930b-4b39-a6ca-0ef1ed7e80cf"
      },
      "execution_count": 5,
      "outputs": [
        {
          "output_type": "stream",
          "name": "stdout",
          "text": [
            "232.40 gramos de KI\n"
          ]
        }
      ]
    }
  ]
}